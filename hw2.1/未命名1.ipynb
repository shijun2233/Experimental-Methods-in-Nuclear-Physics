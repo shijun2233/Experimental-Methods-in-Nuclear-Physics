{
 "cells": [
  {
   "cell_type": "code",
   "execution_count": 4,
   "metadata": {},
   "outputs": [
    {
     "name": "stdout",
     "output_type": "stream",
     "text": [
      "拟合的 λ 值（MLE）: 4.985009765625005\n"
     ]
    }
   ],
   "source": [
    "import numpy as np\n",
    "from scipy.optimize import minimize\n",
    "\n",
    "# 定义负对数似然函数\n",
    "def negative_log_likelihood(params, data):\n",
    "    lam = params[0]\n",
    "    return -np.sum(data * np.log(lam) - lam)\n",
    "\n",
    "# 模拟观测数据\n",
    "np.random.seed(42)\n",
    "true_lambda = 5\n",
    "observed = np.random.poisson(true_lambda, size=1000)\n",
    "\n",
    "# 初始猜测值\n",
    "initial_guess = [3]\n",
    "\n",
    "# 最大化似然函数\n",
    "result = minimize(negative_log_likelihood, initial_guess, args=(observed,), method='Nelder-Mead')\n",
    "fitted_lambda = result.x[0]\n",
    "\n",
    "print(f\"拟合的 λ 值（MLE）: {fitted_lambda}\")\n"
   ]
  },
  {
   "cell_type": "code",
   "execution_count": 1,
   "metadata": {},
   "outputs": [
    {
     "ename": "NameError",
     "evalue": "name 'np' is not defined",
     "output_type": "error",
     "traceback": [
      "\u001b[0;31m---------------------------------------------------------------------------\u001b[0m",
      "\u001b[0;31mNameError\u001b[0m                                 Traceback (most recent call last)",
      "Cell \u001b[0;32mIn[1], line 13\u001b[0m\n\u001b[1;32m     10\u001b[0m     \u001b[38;5;28;01mreturn\u001b[39;00m lam\n\u001b[1;32m     12\u001b[0m \u001b[38;5;66;03m# 模拟数据\u001b[39;00m\n\u001b[0;32m---> 13\u001b[0m observed \u001b[38;5;241m=\u001b[39m \u001b[43mnp\u001b[49m\u001b[38;5;241m.\u001b[39mrandom\u001b[38;5;241m.\u001b[39mpoisson(true_lambda, size\u001b[38;5;241m=\u001b[39m\u001b[38;5;241m1000\u001b[39m)\n\u001b[1;32m     14\u001b[0m fitted_lambda \u001b[38;5;241m=\u001b[39m gradient_descent(observed)\n\u001b[1;32m     16\u001b[0m \u001b[38;5;28mprint\u001b[39m(\u001b[38;5;124mf\u001b[39m\u001b[38;5;124m\"\u001b[39m\u001b[38;5;124m拟合的 λ 值（梯度下降）: \u001b[39m\u001b[38;5;132;01m{\u001b[39;00mfitted_lambda\u001b[38;5;132;01m}\u001b[39;00m\u001b[38;5;124m\"\u001b[39m)\n",
      "\u001b[0;31mNameError\u001b[0m: name 'np' is not defined"
     ]
    }
   ],
   "source": [
    "# 梯度下降拟合泊松分布\n",
    "def gradient_descent(data, lr=0.01, epochs=1000):\n",
    "    lam = 1.0  # 初始化 λ\n",
    "    n = len(data)\n",
    "    for _ in range(epochs):\n",
    "        grad = -np.sum(data) / lam + n  # 梯度计算\n",
    "        lam -= lr * grad  # 梯度下降更新\n",
    "        if np.abs(grad) < 1e-6:\n",
    "            break\n",
    "    return lam\n",
    "\n",
    "# 模拟数据\n",
    "observed = np.random.poisson(true_lambda, size=1000)\n",
    "fitted_lambda = gradient_descent(observed)\n",
    "\n",
    "print(f\"拟合的 λ 值（梯度下降）: {fitted_lambda}\")\n"
   ]
  },
  {
   "cell_type": "code",
   "execution_count": null,
   "metadata": {},
   "outputs": [],
   "source": []
  }
 ],
 "metadata": {
  "kernelspec": {
   "display_name": "Python 3",
   "language": "python",
   "name": "python3"
  },
  "language_info": {
   "codemirror_mode": {
    "name": "ipython",
    "version": 3
   },
   "file_extension": ".py",
   "mimetype": "text/x-python",
   "name": "python",
   "nbconvert_exporter": "python",
   "pygments_lexer": "ipython3",
   "version": "3.12.7"
  }
 },
 "nbformat": 4,
 "nbformat_minor": 4
}
